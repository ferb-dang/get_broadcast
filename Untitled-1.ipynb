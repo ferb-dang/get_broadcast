{
 "cells": [
  {
   "cell_type": "code",
   "execution_count": null,
   "metadata": {},
   "outputs": [],
   "source": [
    "import re\n",
    "import pandas as pd\n",
    "\n",
    "#  thông tin tên Trạm CA, số Điểm phát sóng gần nhất muốn tìm \n",
    "\"\"\"\n",
    "input : mã số tỉnh - mã số huyện - mã số xã - tên đơn vị hành chính - số điểm phát sóng gần nhất ( int : 55)\n",
    "output : tọa độ các điểm \n",
    "\"\"\"\n",
    "def lat_lon_convert(lat_lon):\n",
    "    def dms_to_dd(degrees, minutes, second_direction):\n",
    "        match = re.match(r\"([0-9]+)([a-z]+)\", second_direction, re.I).groups()\n",
    "        seconds = int(match[0])\n",
    "        direction = str(match[1])\n",
    "\n",
    "        dd = int(degrees) + (int(minutes) / 60) + (seconds / 3600)\n",
    "        if direction in ['S', 'W']:\n",
    "            dd *= -1  # South and West are negative\n",
    "        return dd\n",
    "    \n",
    "    lat = lat_lon.split(\",\")[0].strip().split()\n",
    "    lon = lat_lon.split(\",\")[1].strip().split()\n",
    "    \n",
    "    \n",
    "    lat_dd = dms_to_dd(lat[0], lat[1], lat[2])\n",
    "    lon_dd = dms_to_dd(lon[0], lon[1], lon[2])\n",
    "\n",
    "    return lat_dd, lon_dd\n",
    "\n",
    "# input\n",
    "dau_vao = \"Phường Phúc Xá - 50\"\n",
    "\n",
    "administrative_unit_name = dau_vao.rsplit(\" - \", 1)[0]\n",
    "number_of_boardcast_point = dau_vao.rsplit(\" - \", 1)[1]\n",
    "\n",
    "tram_ca = pd.read_excel(\"D:\\workspaces\\get_broadcast\\E124-2009 (31-12)2-MSDVHCVN.xls\", sheet_name=\"Xa\", usecols=\"D,G\")\n",
    "\n",
    "# Validate input\n",
    "tram_ca = tram_ca[tram_ca[\"Tên đơn vị hành chính\"].str.contains(administrative_unit_name,regex=True)]\n",
    "\n",
    "lat_dd, lon_dd = lat_lon_convert(tram_ca[\"Toạ độ điểm trung tâm (Vĩ độ, Kinh độ)\"].iloc[0])\n"
   ]
  },
  {
   "cell_type": "code",
   "execution_count": 10,
   "metadata": {},
   "outputs": [
    {
     "data": {
      "text/plain": [
       "105.84777777777778"
      ]
     },
     "execution_count": 10,
     "metadata": {},
     "output_type": "execute_result"
    }
   ],
   "source": [
    "lat_dd\n",
    "lon_dd"
   ]
  },
  {
   "cell_type": "code",
   "execution_count": null,
   "metadata": {},
   "outputs": [
    {
     "data": {
      "text/html": [
       "<div>\n",
       "<style scoped>\n",
       "    .dataframe tbody tr th:only-of-type {\n",
       "        vertical-align: middle;\n",
       "    }\n",
       "\n",
       "    .dataframe tbody tr th {\n",
       "        vertical-align: top;\n",
       "    }\n",
       "\n",
       "    .dataframe thead th {\n",
       "        text-align: right;\n",
       "    }\n",
       "</style>\n",
       "<table border=\"1\" class=\"dataframe\">\n",
       "  <thead>\n",
       "    <tr style=\"text-align: right;\">\n",
       "      <th></th>\n",
       "      <th>Lat-Lon</th>\n",
       "    </tr>\n",
       "  </thead>\n",
       "  <tbody>\n",
       "    <tr>\n",
       "      <th>0</th>\n",
       "      <td>21.3850522843122-105.800916989398</td>\n",
       "    </tr>\n",
       "    <tr>\n",
       "      <th>1</th>\n",
       "      <td>21.3846005667972-105.800914530949</td>\n",
       "    </tr>\n",
       "    <tr>\n",
       "      <th>2</th>\n",
       "      <td>21.3845959589418-105.801879126019</td>\n",
       "    </tr>\n",
       "    <tr>\n",
       "      <th>3</th>\n",
       "      <td>21.3845936529347-105.802361423457</td>\n",
       "    </tr>\n",
       "    <tr>\n",
       "      <th>4</th>\n",
       "      <td>21.3845867265961-105.803808315383</td>\n",
       "    </tr>\n",
       "    <tr>\n",
       "      <th>...</th>\n",
       "      <td>...</td>\n",
       "    </tr>\n",
       "    <tr>\n",
       "      <th>304821</th>\n",
       "      <td>20.9278105836279-105.907128505585</td>\n",
       "    </tr>\n",
       "    <tr>\n",
       "      <th>304822</th>\n",
       "      <td>20.9278054712565-105.908090119701</td>\n",
       "    </tr>\n",
       "    <tr>\n",
       "      <th>304823</th>\n",
       "      <td>20.9278029130403-105.90857092665</td>\n",
       "    </tr>\n",
       "    <tr>\n",
       "      <th>304824</th>\n",
       "      <td>20.9273614083679-105.906644980609</td>\n",
       "    </tr>\n",
       "    <tr>\n",
       "      <th>304825</th>\n",
       "      <td>20.9273511838661-105.908568203078</td>\n",
       "    </tr>\n",
       "  </tbody>\n",
       "</table>\n",
       "<p>304826 rows × 1 columns</p>\n",
       "</div>"
      ],
      "text/plain": [
       "                                  Lat-Lon\n",
       "0       21.3850522843122-105.800916989398\n",
       "1       21.3846005667972-105.800914530949\n",
       "2       21.3845959589418-105.801879126019\n",
       "3       21.3845936529347-105.802361423457\n",
       "4       21.3845867265961-105.803808315383\n",
       "...                                   ...\n",
       "304821  20.9278105836279-105.907128505585\n",
       "304822  20.9278054712565-105.908090119701\n",
       "304823   20.9278029130403-105.90857092665\n",
       "304824  20.9273614083679-105.906644980609\n",
       "304825  20.9273511838661-105.908568203078\n",
       "\n",
       "[304826 rows x 1 columns]"
      ]
     },
     "execution_count": 8,
     "metadata": {},
     "output_type": "execute_result"
    }
   ],
   "source": [
    "toa_do_phat_song = pd.read_excel(\"D:\\workspaces\\get_broadcast\\Ha Noi 1.xlsx\", usecols=\"A\")\n",
    "toa_do_phat_song"
   ]
  },
  {
   "cell_type": "code",
   "execution_count": null,
   "metadata": {},
   "outputs": [],
   "source": [
    "def dd2dms(decimaldegree, direction='x'):\n",
    "    if type(decimaldegree) != 'float':\n",
    "        try:\n",
    "            decimaldegree = float(decimaldegree)\n",
    "        except:\n",
    "            print ('\\nERROR: Could not convert %s to float.'%(type(decimaldegree)))\n",
    "            return 0\n",
    "    if decimaldegree < 0:\n",
    "        decimaldegree = -decimaldegree\n",
    "        if direction == 'x':\n",
    "            appendix = 'W'\n",
    "        else:\n",
    "            appendix = 'S'\n",
    "    else:\n",
    "        if direction == 'x':\n",
    "            appendix = 'E'\n",
    "        else:\n",
    "            appendix = 'N'\n",
    "    minutes = decimaldegree%1.0*60\n",
    "    seconds = minutes%1.0*60\n",
    "    \n",
    "    return '{0}°{1}\\'{2:2.3f}\"{3}'.format(int(floor(decimaldegree)), int(floor(minutes)), seconds, appendix)\n",
    "\n",
    "dd2dms()"
   ]
  }
 ],
 "metadata": {
  "kernelspec": {
   "display_name": "env",
   "language": "python",
   "name": "python3"
  },
  "language_info": {
   "codemirror_mode": {
    "name": "ipython",
    "version": 3
   },
   "file_extension": ".py",
   "mimetype": "text/x-python",
   "name": "python",
   "nbconvert_exporter": "python",
   "pygments_lexer": "ipython3",
   "version": "3.8.9"
  }
 },
 "nbformat": 4,
 "nbformat_minor": 2
}
