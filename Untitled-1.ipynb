{
 "cells": [
  {
   "cell_type": "code",
   "execution_count": null,
   "metadata": {},
   "outputs": [
    {
     "ename": "TypeError",
     "evalue": "'float' object is not iterable",
     "output_type": "error",
     "traceback": [
      "\u001b[1;31m---------------------------------------------------------------------------\u001b[0m",
      "\u001b[1;31mTypeError\u001b[0m                                 Traceback (most recent call last)",
      "Cell \u001b[1;32mIn[1], line 48\u001b[0m\n\u001b[0;32m     44\u001b[0m tram_ca \u001b[38;5;241m=\u001b[39m tram_ca[tram_ca[\u001b[38;5;124m\"\u001b[39m\u001b[38;5;124mTên đơn vị hành chính\u001b[39m\u001b[38;5;124m\"\u001b[39m]\u001b[38;5;241m.\u001b[39mstr\u001b[38;5;241m.\u001b[39mcontains(administrative_unit_name,regex\u001b[38;5;241m=\u001b[39m\u001b[38;5;28;01mTrue\u001b[39;00m)]\n\u001b[0;32m     46\u001b[0m lat_dd, lon_dd \u001b[38;5;241m=\u001b[39m lat_lon_convert(tram_ca[\u001b[38;5;124m\"\u001b[39m\u001b[38;5;124mToạ độ điểm trung tâm (Vĩ độ, Kinh độ)\u001b[39m\u001b[38;5;124m\"\u001b[39m]\u001b[38;5;241m.\u001b[39miloc[\u001b[38;5;241m0\u001b[39m])\n\u001b[1;32m---> 48\u001b[0m a \u001b[38;5;241m=\u001b[39m \u001b[43mget_closest\u001b[49m\u001b[43m(\u001b[49m\u001b[43mlat_dd\u001b[49m\u001b[43m,\u001b[49m\u001b[43m \u001b[49m\u001b[43mtoa_do_phat_song\u001b[49m\u001b[43m[\u001b[49m\u001b[38;5;124;43m\"\u001b[39;49m\u001b[38;5;124;43mLat\u001b[39;49m\u001b[38;5;124;43m\"\u001b[39;49m\u001b[43m]\u001b[49m\u001b[38;5;241;43m.\u001b[39;49m\u001b[43mtolist\u001b[49m\u001b[43m(\u001b[49m\u001b[43m)\u001b[49m\u001b[43m)\u001b[49m\n\u001b[0;32m     49\u001b[0m b \u001b[38;5;241m=\u001b[39m get_closest(lon_dd, toa_do_phat_song[\u001b[38;5;124m\"\u001b[39m\u001b[38;5;124mLat\u001b[39m\u001b[38;5;124m\"\u001b[39m]\u001b[38;5;241m.\u001b[39mtolist())\n",
      "Cell \u001b[1;32mIn[1], line 31\u001b[0m, in \u001b[0;36mget_closest\u001b[1;34m(lst, key)\u001b[0m\n\u001b[0;32m     30\u001b[0m \u001b[38;5;28;01mdef\u001b[39;00m\u001b[38;5;250m \u001b[39m\u001b[38;5;21mget_closest\u001b[39m(lst, key):\n\u001b[1;32m---> 31\u001b[0m     closest \u001b[38;5;241m=\u001b[39m \u001b[38;5;28;43msorted\u001b[39;49m\u001b[43m(\u001b[49m\u001b[43mlst\u001b[49m\u001b[43m,\u001b[49m\u001b[43m \u001b[49m\u001b[43mkey\u001b[49m\u001b[38;5;241;43m=\u001b[39;49m\u001b[38;5;28;43;01mlambda\u001b[39;49;00m\u001b[43m \u001b[49m\u001b[43mx\u001b[49m\u001b[43m:\u001b[49m\u001b[43m \u001b[49m\u001b[38;5;28;43mabs\u001b[39;49m\u001b[43m(\u001b[49m\u001b[43mx\u001b[49m\u001b[43m \u001b[49m\u001b[38;5;241;43m-\u001b[39;49m\u001b[43m \u001b[49m\u001b[43mkey\u001b[49m\u001b[43m)\u001b[49m\u001b[43m)\u001b[49m[:\u001b[38;5;241m3\u001b[39m]\n\u001b[0;32m     32\u001b[0m     \u001b[38;5;28;01mreturn\u001b[39;00m closest\n",
      "\u001b[1;31mTypeError\u001b[0m: 'float' object is not iterable"
     ]
    }
   ],
   "source": [
    "import re\n",
    "import numpy as np\n",
    "import pandas as pd\n",
    "\n",
    "#  thông tin tên Trạm CA, số Điểm phát sóng gần nhất muốn tìm \n",
    "\"\"\"\n",
    "input : mã số tỉnh - mã số huyện - mã số xã - tên đơn vị hành chính - số điểm phát sóng gần nhất ( int : 55)\n",
    "output : tọa độ các điểm \n",
    "\"\"\"\n",
    "def lat_lon_convert(lat_lon):\n",
    "    def dms_to_dd(degrees, minutes, second_direction):\n",
    "        match = re.match(r\"([0-9]+)([a-z]+)\", second_direction, re.I).groups()\n",
    "        seconds = int(match[0])\n",
    "        direction = str(match[1])\n",
    "\n",
    "        dd = int(degrees) + (int(minutes) / 60) + (seconds / 3600)\n",
    "        if direction in ['S', 'W']:\n",
    "            dd *= -1  # South and West are negative\n",
    "        return dd\n",
    "    \n",
    "    lat = lat_lon.split(\",\")[0].strip().split()\n",
    "    lon = lat_lon.split(\",\")[1].strip().split()\n",
    "    \n",
    "    \n",
    "    lat_dd = dms_to_dd(lat[0], lat[1], lat[2])\n",
    "    lon_dd = dms_to_dd(lon[0], lon[1], lon[2])\n",
    "\n",
    "    return lat_dd, lon_dd\n",
    "\n",
    "def get_closest(key, lst):\n",
    "    closest = sorted(lst, key=lambda x: abs(x - key))[:3]\n",
    "    return closest\n",
    "\n",
    "# input\n",
    "dau_vao = \"Phường Phúc Xá - 50\"\n",
    "\n",
    "administrative_unit_name = dau_vao.rsplit(\" - \", 1)[0]\n",
    "number_of_boardcast_point = dau_vao.rsplit(\" - \", 1)[1]\n",
    "\n",
    "tram_ca = pd.read_excel(\"C:\\Workspace\\get_broadcast\\E124-2009 (31-12)2-MSDVHCVN.xls\", sheet_name=\"Xa\", usecols=\"D,G\")\n",
    "toa_do_phat_song = pd.read_excel(\"C:\\Workspace\\get_broadcast\\hanoi.xlsx\", usecols=\"B, C\")\n",
    "\n",
    "# Validate input\n",
    "tram_ca = tram_ca[tram_ca[\"Tên đơn vị hành chính\"].str.contains(administrative_unit_name,regex=True)]\n",
    "\n",
    "lat_dd, lon_dd = lat_lon_convert(tram_ca[\"Toạ độ điểm trung tâm (Vĩ độ, Kinh độ)\"].iloc[0])\n",
    "\n",
    "a = get_closest(lat_dd, toa_do_phat_song[\"Lat\"].tolist())\n",
    "b = get_closest(lon_dd, toa_do_phat_song[\"Lat\"].tolist())\n",
    "\n"
   ]
  },
  {
   "cell_type": "code",
   "execution_count": 5,
   "metadata": {},
   "outputs": [
    {
     "data": {
      "text/plain": [
       "105.84777777777778"
      ]
     },
     "execution_count": 5,
     "metadata": {},
     "output_type": "execute_result"
    }
   ],
   "source": [
    "lat_dd\n",
    "lon_dd"
   ]
  },
  {
   "cell_type": "code",
   "execution_count": 9,
   "metadata": {},
   "outputs": [
    {
     "data": {
      "text/html": [
       "<div>\n",
       "<style scoped>\n",
       "    .dataframe tbody tr th:only-of-type {\n",
       "        vertical-align: middle;\n",
       "    }\n",
       "\n",
       "    .dataframe tbody tr th {\n",
       "        vertical-align: top;\n",
       "    }\n",
       "\n",
       "    .dataframe thead th {\n",
       "        text-align: right;\n",
       "    }\n",
       "</style>\n",
       "<table border=\"1\" class=\"dataframe\">\n",
       "  <thead>\n",
       "    <tr style=\"text-align: right;\">\n",
       "      <th></th>\n",
       "      <th>Lat</th>\n",
       "      <th>Lon</th>\n",
       "    </tr>\n",
       "  </thead>\n",
       "  <tbody>\n",
       "    <tr>\n",
       "      <th>0</th>\n",
       "      <td>21.385052</td>\n",
       "      <td>105.800917</td>\n",
       "    </tr>\n",
       "    <tr>\n",
       "      <th>1</th>\n",
       "      <td>21.384601</td>\n",
       "      <td>105.800915</td>\n",
       "    </tr>\n",
       "    <tr>\n",
       "      <th>2</th>\n",
       "      <td>21.384596</td>\n",
       "      <td>105.801879</td>\n",
       "    </tr>\n",
       "    <tr>\n",
       "      <th>3</th>\n",
       "      <td>21.384594</td>\n",
       "      <td>105.802361</td>\n",
       "    </tr>\n",
       "    <tr>\n",
       "      <th>4</th>\n",
       "      <td>21.384587</td>\n",
       "      <td>105.803808</td>\n",
       "    </tr>\n",
       "    <tr>\n",
       "      <th>...</th>\n",
       "      <td>...</td>\n",
       "      <td>...</td>\n",
       "    </tr>\n",
       "    <tr>\n",
       "      <th>304821</th>\n",
       "      <td>20.927811</td>\n",
       "      <td>105.907129</td>\n",
       "    </tr>\n",
       "    <tr>\n",
       "      <th>304822</th>\n",
       "      <td>20.927805</td>\n",
       "      <td>105.908090</td>\n",
       "    </tr>\n",
       "    <tr>\n",
       "      <th>304823</th>\n",
       "      <td>20.927803</td>\n",
       "      <td>105.908571</td>\n",
       "    </tr>\n",
       "    <tr>\n",
       "      <th>304824</th>\n",
       "      <td>20.927361</td>\n",
       "      <td>105.906645</td>\n",
       "    </tr>\n",
       "    <tr>\n",
       "      <th>304825</th>\n",
       "      <td>20.927351</td>\n",
       "      <td>105.908568</td>\n",
       "    </tr>\n",
       "  </tbody>\n",
       "</table>\n",
       "<p>304826 rows × 2 columns</p>\n",
       "</div>"
      ],
      "text/plain": [
       "              Lat         Lon\n",
       "0       21.385052  105.800917\n",
       "1       21.384601  105.800915\n",
       "2       21.384596  105.801879\n",
       "3       21.384594  105.802361\n",
       "4       21.384587  105.803808\n",
       "...           ...         ...\n",
       "304821  20.927811  105.907129\n",
       "304822  20.927805  105.908090\n",
       "304823  20.927803  105.908571\n",
       "304824  20.927361  105.906645\n",
       "304825  20.927351  105.908568\n",
       "\n",
       "[304826 rows x 2 columns]"
      ]
     },
     "execution_count": 9,
     "metadata": {},
     "output_type": "execute_result"
    }
   ],
   "source": [
    "toa_do_phat_song = pd.read_excel(\"C:\\Workspace\\get_broadcast\\Ha Noi 1_Ind Nth Best Cell's Median RSRP RSRQ Volume VTHN1 9.12 to 15.12.xlsx\", usecols=\"B, C\")\n",
    "toa_do_phat_song"
   ]
  },
  {
   "cell_type": "code",
   "execution_count": null,
   "metadata": {},
   "outputs": [
    {
     "ename": "TypeError",
     "evalue": "'module' object is not callable",
     "output_type": "error",
     "traceback": [
      "\u001b[1;31m---------------------------------------------------------------------------\u001b[0m",
      "\u001b[1;31mTypeError\u001b[0m                                 Traceback (most recent call last)",
      "Cell \u001b[1;32mIn[4], line 2\u001b[0m\n\u001b[0;32m      1\u001b[0m \u001b[38;5;28;01mimport\u001b[39;00m\u001b[38;5;250m \u001b[39m\u001b[38;5;21;01mtkinter\u001b[39;00m\u001b[38;5;250m \u001b[39m\u001b[38;5;28;01mas\u001b[39;00m\u001b[38;5;250m \u001b[39m\u001b[38;5;21;01mTk\u001b[39;00m\n\u001b[1;32m----> 2\u001b[0m root \u001b[38;5;241m=\u001b[39m \u001b[43mTk\u001b[49m\u001b[43m(\u001b[49m\u001b[43m)\u001b[49m\n\u001b[0;32m      4\u001b[0m \u001b[38;5;66;03m#Create lable \u001b[39;00m\n\u001b[0;32m      5\u001b[0m label \u001b[38;5;241m=\u001b[39m Label(root, text\u001b[38;5;241m=\u001b[39m\u001b[38;5;124m\"\u001b[39m\u001b[38;5;124mhello World\u001b[39m\u001b[38;5;124m\"\u001b[39m)\n",
      "\u001b[1;31mTypeError\u001b[0m: 'module' object is not callable"
     ]
    }
   ],
   "source": []
  }
 ],
 "metadata": {
  "kernelspec": {
   "display_name": "env",
   "language": "python",
   "name": "python3"
  },
  "language_info": {
   "codemirror_mode": {
    "name": "ipython",
    "version": 3
   },
   "file_extension": ".py",
   "mimetype": "text/x-python",
   "name": "python",
   "nbconvert_exporter": "python",
   "pygments_lexer": "ipython3",
   "version": "3.9.12"
  }
 },
 "nbformat": 4,
 "nbformat_minor": 2
}
